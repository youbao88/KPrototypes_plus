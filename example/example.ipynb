{
 "cells": [
  {
   "cell_type": "code",
   "execution_count": 1,
   "metadata": {},
   "outputs": [],
   "source": [
    "import pandas as pd\n",
    "import numpy as np\n",
    "from kpplus import KPrototypes_plus\n",
    "from kmodes.kprototypes import KPrototypes"
   ]
  },
  {
   "cell_type": "code",
   "execution_count": 2,
   "metadata": {},
   "outputs": [
    {
     "data": {
      "text/html": [
       "<div>\n",
       "<style scoped>\n",
       "    .dataframe tbody tr th:only-of-type {\n",
       "        vertical-align: middle;\n",
       "    }\n",
       "\n",
       "    .dataframe tbody tr th {\n",
       "        vertical-align: top;\n",
       "    }\n",
       "\n",
       "    .dataframe thead th {\n",
       "        text-align: right;\n",
       "    }\n",
       "</style>\n",
       "<table border=\"1\" class=\"dataframe\">\n",
       "  <thead>\n",
       "    <tr style=\"text-align: right;\">\n",
       "      <th></th>\n",
       "      <th>age</th>\n",
       "      <th>sex</th>\n",
       "      <th>cp</th>\n",
       "      <th>trestbps</th>\n",
       "      <th>chol</th>\n",
       "      <th>fbs</th>\n",
       "      <th>restecg</th>\n",
       "      <th>thalach</th>\n",
       "      <th>exang</th>\n",
       "      <th>oldpeak</th>\n",
       "      <th>slope</th>\n",
       "      <th>ca</th>\n",
       "      <th>thal</th>\n",
       "    </tr>\n",
       "  </thead>\n",
       "  <tbody>\n",
       "    <tr>\n",
       "      <th>0</th>\n",
       "      <td>63.0</td>\n",
       "      <td>male</td>\n",
       "      <td>typical angina</td>\n",
       "      <td>145.0</td>\n",
       "      <td>233.0</td>\n",
       "      <td>1.0</td>\n",
       "      <td>2.0</td>\n",
       "      <td>150.0</td>\n",
       "      <td>0.0</td>\n",
       "      <td>2.3</td>\n",
       "      <td>3.0</td>\n",
       "      <td>0.0</td>\n",
       "      <td>6.0</td>\n",
       "    </tr>\n",
       "    <tr>\n",
       "      <th>1</th>\n",
       "      <td>67.0</td>\n",
       "      <td>male</td>\n",
       "      <td>asymptomatic</td>\n",
       "      <td>160.0</td>\n",
       "      <td>286.0</td>\n",
       "      <td>0.0</td>\n",
       "      <td>2.0</td>\n",
       "      <td>108.0</td>\n",
       "      <td>1.0</td>\n",
       "      <td>1.5</td>\n",
       "      <td>2.0</td>\n",
       "      <td>3.0</td>\n",
       "      <td>3.0</td>\n",
       "    </tr>\n",
       "    <tr>\n",
       "      <th>2</th>\n",
       "      <td>67.0</td>\n",
       "      <td>male</td>\n",
       "      <td>asymptomatic</td>\n",
       "      <td>120.0</td>\n",
       "      <td>229.0</td>\n",
       "      <td>0.0</td>\n",
       "      <td>2.0</td>\n",
       "      <td>129.0</td>\n",
       "      <td>1.0</td>\n",
       "      <td>2.6</td>\n",
       "      <td>2.0</td>\n",
       "      <td>2.0</td>\n",
       "      <td>7.0</td>\n",
       "    </tr>\n",
       "    <tr>\n",
       "      <th>3</th>\n",
       "      <td>37.0</td>\n",
       "      <td>male</td>\n",
       "      <td>non-anginal pain</td>\n",
       "      <td>130.0</td>\n",
       "      <td>250.0</td>\n",
       "      <td>0.0</td>\n",
       "      <td>0.0</td>\n",
       "      <td>187.0</td>\n",
       "      <td>0.0</td>\n",
       "      <td>3.5</td>\n",
       "      <td>3.0</td>\n",
       "      <td>0.0</td>\n",
       "      <td>3.0</td>\n",
       "    </tr>\n",
       "    <tr>\n",
       "      <th>4</th>\n",
       "      <td>41.0</td>\n",
       "      <td>female</td>\n",
       "      <td>atypical angina</td>\n",
       "      <td>130.0</td>\n",
       "      <td>204.0</td>\n",
       "      <td>0.0</td>\n",
       "      <td>2.0</td>\n",
       "      <td>172.0</td>\n",
       "      <td>0.0</td>\n",
       "      <td>1.4</td>\n",
       "      <td>1.0</td>\n",
       "      <td>0.0</td>\n",
       "      <td>3.0</td>\n",
       "    </tr>\n",
       "  </tbody>\n",
       "</table>\n",
       "</div>"
      ],
      "text/plain": [
       "    age     sex                cp  trestbps   chol  fbs  restecg  thalach  \\\n",
       "0  63.0    male    typical angina     145.0  233.0  1.0      2.0    150.0   \n",
       "1  67.0    male      asymptomatic     160.0  286.0  0.0      2.0    108.0   \n",
       "2  67.0    male      asymptomatic     120.0  229.0  0.0      2.0    129.0   \n",
       "3  37.0    male  non-anginal pain     130.0  250.0  0.0      0.0    187.0   \n",
       "4  41.0  female   atypical angina     130.0  204.0  0.0      2.0    172.0   \n",
       "\n",
       "   exang  oldpeak  slope   ca  thal  \n",
       "0    0.0      2.3    3.0  0.0   6.0  \n",
       "1    1.0      1.5    2.0  3.0   3.0  \n",
       "2    1.0      2.6    2.0  2.0   7.0  \n",
       "3    0.0      3.5    3.0  0.0   3.0  \n",
       "4    0.0      1.4    1.0  0.0   3.0  "
      ]
     },
     "execution_count": 2,
     "metadata": {},
     "output_type": "execute_result"
    }
   ],
   "source": [
    "columns = ['age','sex','cp','trestbps','chol','fbs','restecg','thalach','exang','oldpeak','slope','ca','thal','num']\n",
    "df = pd.read_csv('processed.cleveland.csv', names = columns).iloc[:,:-1]\n",
    "df['sex'] = df['sex'].replace({1: 'male', 0: 'female'})\n",
    "df['cp'] = df['cp'].replace({\n",
    "    1: 'typical angina',\n",
    "    2: 'atypical angina',\n",
    "    3: 'non-anginal pain',\n",
    "    4: 'asymptomatic'\n",
    "})\n",
    "df['cp'] = df['cp'].astype('category')\n",
    "df = df.replace(to_replace='?', value = np.nan)\n",
    "df = df.dropna(axis = 0)\n",
    "df['ca'] = df['ca'].astype('float64')\n",
    "df['thal'] = df['thal'].astype('float64')\n",
    "df.head()"
   ]
  },
  {
   "cell_type": "code",
   "execution_count": 3,
   "metadata": {},
   "outputs": [
    {
     "data": {
      "text/plain": [
       "age          float64\n",
       "sex           object\n",
       "cp          category\n",
       "trestbps     float64\n",
       "chol         float64\n",
       "fbs          float64\n",
       "restecg      float64\n",
       "thalach      float64\n",
       "exang        float64\n",
       "oldpeak      float64\n",
       "slope        float64\n",
       "ca           float64\n",
       "thal         float64\n",
       "dtype: object"
      ]
     },
     "execution_count": 3,
     "metadata": {},
     "output_type": "execute_result"
    }
   ],
   "source": [
    "df.dtypes"
   ]
  },
  {
   "cell_type": "code",
   "execution_count": 4,
   "metadata": {},
   "outputs": [
    {
     "data": {
      "text/plain": [
       "age         0\n",
       "sex         0\n",
       "cp          0\n",
       "trestbps    0\n",
       "chol        0\n",
       "fbs         0\n",
       "restecg     0\n",
       "thalach     0\n",
       "exang       0\n",
       "oldpeak     0\n",
       "slope       0\n",
       "ca          0\n",
       "thal        0\n",
       "dtype: int64"
      ]
     },
     "execution_count": 4,
     "metadata": {},
     "output_type": "execute_result"
    }
   ],
   "source": [
    "df.isna().sum()"
   ]
  },
  {
   "cell_type": "code",
   "execution_count": 5,
   "metadata": {},
   "outputs": [
    {
     "data": {
      "text/plain": [
       "(4455, 13)"
      ]
     },
     "execution_count": 5,
     "metadata": {},
     "output_type": "execute_result"
    }
   ],
   "source": [
    "df = df.sample(frac=15, replace=True)\n",
    "df.shape"
   ]
  },
  {
   "cell_type": "code",
   "execution_count": 6,
   "metadata": {},
   "outputs": [],
   "source": [
    "mdl = KPrototypes_plus(n_clusters = 4, n_init = 4, n_jobs = -1)\n",
    "mdl.fit_predict(X = df, categorical = [1,2,5,6,8,10,12])"
   ]
  },
  {
   "cell_type": "code",
   "execution_count": 7,
   "metadata": {},
   "outputs": [
    {
     "name": "stdout",
     "output_type": "stream",
     "text": [
      "cluster labels: \n",
      " [3 3 3 ... 3 1 1]\n",
      "cluster centroids: \n",
      " [[52.7928870292887, 'male', 'asymptomatic', 129.84379358437937, 245.9100418410042, 0.0, 2.0, 163.9065550906555, 0.0, 0.7884937238493711, 1.0, 0.5857740585774058, 3.0], [52.38825324180015, 'male', 'asymptomatic', 126.64073226544622, 195.0045766590389, 0.0, 0.0, 149.82074752097634, 0.0, 1.100152555301297, 1.0, 0.532418001525553, 3.0], [56.02930832356389, 'male', 'asymptomatic', 132.5685814771395, 324.9706916764361, 0.0, 2.0, 152.1512309495897, 0.0, 0.9971864009378658, 1.0, 0.794841735052755, 3.0], [59.55892648774796, 'male', 'asymptomatic', 137.91015169194867, 259.80396732788796, 0.0, 2.0, 122.94399066511085, 1.0, 1.5824970828471423, 2.0, 0.9358226371061844, 7.0]]\n",
      "number of iterations: \n",
      " 14\n",
      "cost: \n",
      " 5979433.184415547\n"
     ]
    }
   ],
   "source": [
    "print('cluster labels: \\n', mdl.labels_)\n",
    "print('cluster centroids: \\n', mdl.cluster_centroids_)\n",
    "print('number of iterations: \\n', mdl.n_iter_)\n",
    "print('cost: \\n', mdl.cost_)"
   ]
  },
  {
   "cell_type": "code",
   "execution_count": 8,
   "metadata": {
    "scrolled": false
   },
   "outputs": [
    {
     "name": "stdout",
     "output_type": "stream",
     "text": [
      "Wall time: 58.8 s\n"
     ]
    }
   ],
   "source": [
    "%%time\n",
    "for _ in range(20):\n",
    "    k_prototype_plus = KPrototypes_plus(n_clusters = 4, n_init = 4, n_jobs = -1)\n",
    "    k_prototype_plus.fit_predict(X = df, categorical = [1,2,5,6,8,10,12])"
   ]
  },
  {
   "cell_type": "code",
   "execution_count": 9,
   "metadata": {},
   "outputs": [
    {
     "name": "stdout",
     "output_type": "stream",
     "text": [
      "Wall time: 2min 36s\n"
     ]
    }
   ],
   "source": [
    "%%time\n",
    "for _ in range(20):    \n",
    "    k_prototype_normal = KPrototypes(n_clusters = 4, n_init = 4, n_jobs = -1, init = 'Cao')\n",
    "    k_prototype_normal.fit_predict(X = df, categorical = [1,2,5,6,8,10,12])"
   ]
  }
 ],
 "metadata": {
  "kernelspec": {
   "display_name": "Python 3",
   "language": "python",
   "name": "python3"
  },
  "language_info": {
   "codemirror_mode": {
    "name": "ipython",
    "version": 3
   },
   "file_extension": ".py",
   "mimetype": "text/x-python",
   "name": "python",
   "nbconvert_exporter": "python",
   "pygments_lexer": "ipython3",
   "version": "3.8.3"
  }
 },
 "nbformat": 4,
 "nbformat_minor": 2
}
